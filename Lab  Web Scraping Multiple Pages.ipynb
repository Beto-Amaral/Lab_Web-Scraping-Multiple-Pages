{
 "cells": [
  {
   "cell_type": "code",
   "execution_count": 3,
   "metadata": {},
   "outputs": [],
   "source": [
    "from bs4 import BeautifulSoup\n",
    "import pandas as pd\n",
    "import requests\n",
    "import numpy as np\n",
    "from time import sleep"
   ]
  },
  {
   "cell_type": "code",
   "execution_count": 4,
   "metadata": {},
   "outputs": [],
   "source": [
    "## Retrieve an arbitrary Wikipedia page of \"Python\" and create a list of links on that page"
   ]
  },
  {
   "cell_type": "code",
   "execution_count": 5,
   "metadata": {},
   "outputs": [
    {
     "data": {
      "text/plain": [
       "200"
      ]
     },
     "execution_count": 5,
     "metadata": {},
     "output_type": "execute_result"
    }
   ],
   "source": [
    "url ='https://en.wikipedia.org/wiki/Python'\n",
    "response = requests.get(url)\n",
    "response.status_code"
   ]
  },
  {
   "cell_type": "code",
   "execution_count": 6,
   "metadata": {},
   "outputs": [],
   "source": [
    "soup = BeautifulSoup(response.content, \"html.parser\")"
   ]
  },
  {
   "cell_type": "code",
   "execution_count": 7,
   "metadata": {},
   "outputs": [
    {
     "data": {
      "text/plain": [
       "'/wiki/Pythons'"
      ]
     },
     "execution_count": 7,
     "metadata": {},
     "output_type": "execute_result"
    }
   ],
   "source": [
    "sp = soup.select(\"#mw-content-text > div.mw-parser-output > ul > li > a\")[0][\"href\"]\n",
    "sp"
   ]
  },
  {
   "cell_type": "code",
   "execution_count": 9,
   "metadata": {},
   "outputs": [
    {
     "data": {
      "text/plain": [
       "['wikipedia.org/wiki/Pythons',\n",
       " 'wikipedia.org/wiki/Python_(programming_language)',\n",
       " 'wikipedia.org/wiki/CMU_Common_Lisp',\n",
       " 'wikipedia.org/wiki/PERQ#PERQ_3',\n",
       " 'wikipedia.org/wiki/Python_of_Aenus',\n",
       " 'wikipedia.org/wiki/Python_(painter)',\n",
       " 'wikipedia.org/wiki/Python_of_Byzantium',\n",
       " 'wikipedia.org/wiki/Python_of_Catana',\n",
       " 'wikipedia.org/wiki/Python_Anghelo',\n",
       " 'wikipedia.org/wiki/Python_(Efteling)',\n",
       " 'wikipedia.org/wiki/Python_(Busch_Gardens_Tampa_Bay)',\n",
       " 'wikipedia.org/wiki/Python_(Coney_Island,_Cincinnati,_Ohio)',\n",
       " 'wikipedia.org/wiki/Python_(automobile_maker)']"
      ]
     },
     "execution_count": 9,
     "metadata": {},
     "output_type": "execute_result"
    }
   ],
   "source": [
    "links = []\n",
    "for i in range(len(sp)):\n",
    "    links.append(\"wikipedia.org\" + soup.select(\"#mw-content-text > div.mw-parser-output > ul > li > a\")[i][\"href\"])\n",
    "\n",
    "links    "
   ]
  },
  {
   "cell_type": "code",
   "execution_count": 10,
   "metadata": {},
   "outputs": [],
   "source": [
    "##Create a Python list with the top ten FBI's Most Wanted names:"
   ]
  },
  {
   "cell_type": "code",
   "execution_count": 11,
   "metadata": {},
   "outputs": [],
   "source": [
    "url2 = 'https://www.fbi.gov/wanted/topten'\n",
    "response2 = requests.get(url2)\n",
    "soup2 =BeautifulSoup(response2.content, 'html.parser')"
   ]
  },
  {
   "cell_type": "code",
   "execution_count": 13,
   "metadata": {},
   "outputs": [
    {
     "data": {
      "text/plain": [
       "['RAFAEL CARO-QUINTERO',\n",
       " 'ROBERT WILLIAM FISHER',\n",
       " 'BHADRESHKUMAR CHETANBHAI PATEL',\n",
       " 'ALEJANDRO ROSALES CASTILLO',\n",
       " 'ARNOLDO JIMENEZ',\n",
       " 'JASON DEREK BROWN',\n",
       " 'ALEXIS FLORES',\n",
       " 'JOSE RODOLFO VILLARREAL-HERNANDEZ',\n",
       " 'EUGENE PALMER',\n",
       " 'YASER ABDEL SAID']"
      ]
     },
     "execution_count": 13,
     "metadata": {},
     "output_type": "execute_result"
    }
   ],
   "source": [
    "most_wanted = []\n",
    "names = soup2.findAll('li',attrs={\"class\":\"portal-type-person castle-grid-block-item\"})\n",
    "for x in names:\n",
    "    name = str(x.find('h3',{'class':'title'}).text).strip()\n",
    "    most_wanted.append(name)\n",
    "most_wanted\n"
   ]
  },
  {
   "cell_type": "code",
   "execution_count": 14,
   "metadata": {},
   "outputs": [],
   "source": [
    "## Display the 20 latest earthquakes info (date, time, latitude, longitude and region name) by the EMSC as a pandas dataframe:"
   ]
  },
  {
   "cell_type": "code",
   "execution_count": 15,
   "metadata": {},
   "outputs": [
    {
     "data": {
      "text/plain": [
       "200"
      ]
     },
     "execution_count": 15,
     "metadata": {},
     "output_type": "execute_result"
    }
   ],
   "source": [
    "url = \"https://www.emsc-csem.org/Earthquake/\"\n",
    "response = requests.get(url)\n",
    "response.status_code # 200 status code means OK!"
   ]
  },
  {
   "cell_type": "code",
   "execution_count": 16,
   "metadata": {},
   "outputs": [],
   "source": [
    "iterations = range(1, 2000, 50)\n",
    "base_url = \"https://www.emsc-csem.org/Earthquake/?view=\"\n",
    "urls = []\n",
    "for i in iterations:\n",
    "    start_at= str(i)\n",
    "    url = base_url + start_at\n",
    "    urls.append(url)"
   ]
  },
  {
   "cell_type": "code",
   "execution_count": 17,
   "metadata": {},
   "outputs": [],
   "source": [
    "#initialize empty lists\n",
    "date = []\n",
    "latitude = []\n",
    "wind_latitude = []\n",
    "longitude = []\n",
    "wind_longitude = []\n",
    "region =[]\n",
    "for url in urls[0:5]:\n",
    "    response = requests.get(url)\n",
    "    #print(\"Parsing url: \",url)\n",
    "    #print()\n",
    "    if (response.status_code == 200):\n",
    "        wait_time = np.random.randint(1,4)\n",
    "        sleep(wait_time)\n",
    "        soup = BeautifulSoup(response.content, \"html.parser\")\n",
    "        elems = soup.select(\"tr.normal\")\n",
    "        for elem in elems:\n",
    "            try:\n",
    "                sub = elem.select(\"td.tabev6 a\")\n",
    "                date.append(sub[0].get_text().replace(\"\\xa0\\xa0\\xa0\",\", \"))\n",
    "            except:\n",
    "                date.append('0000-00-00, 00:00:00.0')\n",
    "            try:\n",
    "                latitude.append(elem.select(\"td.tabev1\")[0].get_text().replace(\"\\xa0\",\"\"))\n",
    "            except:\n",
    "                latitude.append('00.00')\n",
    "            try:\n",
    "                wind_latitude.append(elem.select(\"td.tabev2\")[0].get_text().replace(\"\\xa0\",\"\"))\n",
    "            except:\n",
    "                wind_latitude.append('-')\n",
    "            try:\n",
    "                longitude.append(elem.select(\"td.tabev1\")[1].get_text().replace(\"\\xa0\",\"\"))\n",
    "            except:\n",
    "                longitude.append('00.00')\n",
    "            try:\n",
    "                wind_longitude.append(elem.select(\"td.tabev2\")[1].get_text().replace(\"\\xa0\",\"\"))\n",
    "            except:\n",
    "                wind_longitude.append('-')\n",
    "            try:\n",
    "                region.append(elem.select(\"td.tb_region\")[0].get_text().replace(\"\\xa0\",\"\"))\n",
    "            except:\n",
    "                region.append('UNKNOWN')\n",
    "#print(date[0:3])\n",
    "#print(latitude[0:3])\n",
    "#print(longitude[0:3])\n",
    "#print(region[0:3])\n",
    "df = pd.DataFrame({'date & time' : date[0:3], 'latitude' : latitude[0:3], 'wind_latitude' : wind_latitude[0:3], 'longitude' : longitude[0:3], 'wind_longitude' : wind_longitude[0:3], 'region' : region[0:3]})"
   ]
  },
  {
   "cell_type": "code",
   "execution_count": 18,
   "metadata": {},
   "outputs": [
    {
     "data": {
      "text/html": [
       "<div>\n",
       "<style scoped>\n",
       "    .dataframe tbody tr th:only-of-type {\n",
       "        vertical-align: middle;\n",
       "    }\n",
       "\n",
       "    .dataframe tbody tr th {\n",
       "        vertical-align: top;\n",
       "    }\n",
       "\n",
       "    .dataframe thead th {\n",
       "        text-align: right;\n",
       "    }\n",
       "</style>\n",
       "<table border=\"1\" class=\"dataframe\">\n",
       "  <thead>\n",
       "    <tr style=\"text-align: right;\">\n",
       "      <th></th>\n",
       "      <th>date &amp; time</th>\n",
       "      <th>latitude</th>\n",
       "      <th>wind_latitude</th>\n",
       "      <th>longitude</th>\n",
       "      <th>wind_longitude</th>\n",
       "      <th>region</th>\n",
       "    </tr>\n",
       "  </thead>\n",
       "  <tbody>\n",
       "    <tr>\n",
       "      <th>0</th>\n",
       "      <td>2021-02-22, 16:24:44.0</td>\n",
       "      <td>24.25</td>\n",
       "      <td>S</td>\n",
       "      <td>66.98</td>\n",
       "      <td>W</td>\n",
       "      <td>SALTA, ARGENTINA</td>\n",
       "    </tr>\n",
       "    <tr>\n",
       "      <th>1</th>\n",
       "      <td>2021-02-22, 16:11:46.0</td>\n",
       "      <td>9.81</td>\n",
       "      <td>N</td>\n",
       "      <td>124.70</td>\n",
       "      <td>E</td>\n",
       "      <td>BOHOL, PHILIPPINES</td>\n",
       "    </tr>\n",
       "    <tr>\n",
       "      <th>2</th>\n",
       "      <td>2021-02-22, 16:03:17.3</td>\n",
       "      <td>19.22</td>\n",
       "      <td>N</td>\n",
       "      <td>155.41</td>\n",
       "      <td>W</td>\n",
       "      <td>ISLAND OF HAWAII, HAWAII</td>\n",
       "    </tr>\n",
       "  </tbody>\n",
       "</table>\n",
       "</div>"
      ],
      "text/plain": [
       "              date & time latitude wind_latitude longitude wind_longitude  \\\n",
       "0  2021-02-22, 16:24:44.0    24.25             S     66.98              W   \n",
       "1  2021-02-22, 16:11:46.0     9.81             N    124.70              E   \n",
       "2  2021-02-22, 16:03:17.3    19.22             N    155.41              W   \n",
       "\n",
       "                     region  \n",
       "0          SALTA, ARGENTINA  \n",
       "1        BOHOL, PHILIPPINES  \n",
       "2  ISLAND OF HAWAII, HAWAII  "
      ]
     },
     "execution_count": 18,
     "metadata": {},
     "output_type": "execute_result"
    }
   ],
   "source": [
    "df"
   ]
  },
  {
   "cell_type": "code",
   "execution_count": null,
   "metadata": {},
   "outputs": [],
   "source": []
  }
 ],
 "metadata": {
  "kernelspec": {
   "display_name": "Python 3",
   "language": "python",
   "name": "python3"
  },
  "language_info": {
   "codemirror_mode": {
    "name": "ipython",
    "version": 3
   },
   "file_extension": ".py",
   "mimetype": "text/x-python",
   "name": "python",
   "nbconvert_exporter": "python",
   "pygments_lexer": "ipython3",
   "version": "3.8.5"
  }
 },
 "nbformat": 4,
 "nbformat_minor": 4
}
